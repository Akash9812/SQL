{
 "cells": [
  {
   "cell_type": "markdown",
   "metadata": {},
   "source": [
    "## Installation"
   ]
  },
  {
   "cell_type": "code",
   "execution_count": null,
   "metadata": {},
   "outputs": [],
   "source": [
    "pip install PyMySql"
   ]
  },
  {
   "cell_type": "code",
   "execution_count": null,
   "metadata": {},
   "outputs": [],
   "source": [
    "pip install mysql-connector"
   ]
  },
  {
   "cell_type": "code",
   "execution_count": 1,
   "metadata": {},
   "outputs": [],
   "source": [
    "import mysql.connector"
   ]
  },
  {
   "cell_type": "markdown",
   "metadata": {},
   "source": [
    "## Creating SQL connection and connect"
   ]
  },
  {
   "cell_type": "code",
   "execution_count": 2,
   "metadata": {},
   "outputs": [
    {
     "name": "stdout",
     "output_type": "stream",
     "text": [
      "<mysql.connector.connection_cext.CMySQLConnection object at 0x0000028544B2FBB0>\n"
     ]
    }
   ],
   "source": [
    "mydb = mysql.connector.connect(\n",
    "  host=\"localhost\",\n",
    "  user=\"root\",\n",
    "  password=\"*******\"\n",
    ")\n",
    "\n",
    "print(mydb)"
   ]
  },
  {
   "cell_type": "code",
   "execution_count": 3,
   "metadata": {},
   "outputs": [],
   "source": [
    "cursor = mydb.cursor()\n",
    "\n",
    "cursor.execute(\"SHOW DATABASES\")"
   ]
  },
  {
   "cell_type": "code",
   "execution_count": 4,
   "metadata": {},
   "outputs": [
    {
     "name": "stdout",
     "output_type": "stream",
     "text": [
      "('abcd',)\n",
      "('attrition',)\n",
      "('cars',)\n",
      "('demo1',)\n",
      "('fake',)\n",
      "('indian_cars',)\n",
      "('information_schema',)\n",
      "('ipl',)\n",
      "('joins',)\n",
      "('mydb',)\n",
      "('mysql',)\n",
      "('performance_schema',)\n",
      "('practice',)\n",
      "('sakila',)\n",
      "('students',)\n",
      "('sys',)\n",
      "('world',)\n"
     ]
    }
   ],
   "source": [
    "for x in cursor:\n",
    "    print(x)"
   ]
  },
  {
   "cell_type": "code",
   "execution_count": 5,
   "metadata": {},
   "outputs": [],
   "source": [
    "cursor.execute(\"USE students\")"
   ]
  },
  {
   "cell_type": "code",
   "execution_count": 6,
   "metadata": {},
   "outputs": [],
   "source": [
    "cursor.execute(\"show tables\")"
   ]
  },
  {
   "cell_type": "code",
   "execution_count": 7,
   "metadata": {},
   "outputs": [
    {
     "name": "stdout",
     "output_type": "stream",
     "text": [
      "('student',)\n",
      "('students1',)\n"
     ]
    }
   ],
   "source": [
    "for x in cursor:\n",
    "    print(x)"
   ]
  },
  {
   "cell_type": "code",
   "execution_count": 8,
   "metadata": {},
   "outputs": [],
   "source": [
    "cursor.execute(\"SELECT * FROM students1\")"
   ]
  },
  {
   "cell_type": "code",
   "execution_count": 9,
   "metadata": {},
   "outputs": [
    {
     "name": "stdout",
     "output_type": "stream",
     "text": [
      "(1, 'sanket', 'stat', 'A')\n",
      "(2, 'shrya', 'mvs', 'B')\n",
      "(3, 'vijay', 'infarence', 'C')\n",
      "(4, 'akash', 'maths', 'c')\n",
      "(5, 'akshay', 'hindi', 'B')\n",
      "(6, 'viraj', 'marathi', 'B')\n",
      "(9, 'Aakash', 'stat', 'A')\n",
      "(10, 'Prakash', 'physics', 'A')\n",
      "(11, 'Aakash', 'physics', 'A')\n",
      "(12, 'Aakash', 'physics', 'A')\n",
      "(13, 'Aakash', 'physics', 'A')\n"
     ]
    }
   ],
   "source": [
    "for x in cursor:\n",
    "    print(x)"
   ]
  },
  {
   "cell_type": "markdown",
   "metadata": {},
   "source": [
    "## Insert Records in Table\n"
   ]
  },
  {
   "cell_type": "code",
   "execution_count": 10,
   "metadata": {},
   "outputs": [
    {
     "name": "stdout",
     "output_type": "stream",
     "text": [
      "Row inserted 14\n"
     ]
    }
   ],
   "source": [
    "query = \"INSERT INTO students1 (name,sub,grade) VALUES (%s,%s,%s)\"\n",
    "values = (\"Aakash\",\"physics\",\"A\")\n",
    "cursor.execute(query,values)\n",
    "print(\"Row inserted\",cursor.lastrowid)"
   ]
  },
  {
   "cell_type": "code",
   "execution_count": 11,
   "metadata": {},
   "outputs": [
    {
     "name": "stdout",
     "output_type": "stream",
     "text": [
      "Row inserted 31\n"
     ]
    }
   ],
   "source": [
    "### Insert multiple records in Table\n",
    "query = \"INSERT INTO student (name, sub,grade) VALUES (%s,%s, %s)\"\n",
    "values = [(\"shivani\", \"Stat\",\"A\"),\n",
    "        (\"Joe\", \"maths\",\"B\"),\n",
    "        (\"Ankur\",\"math\",\"B\"),\n",
    "        (\"Paul\",\"eng\",\"A\"),\n",
    "        (\"Vishal\",\"Maths\",\"B\"),\n",
    "        (\"Krish\",\"stat\",\"A\")]\n",
    "cursor.executemany(query,values)\n",
    "print(\"Row inserted\",cursor.lastrowid)"
   ]
  },
  {
   "cell_type": "markdown",
   "metadata": {},
   "source": [
    "#### Select All "
   ]
  },
  {
   "cell_type": "code",
   "execution_count": 12,
   "metadata": {},
   "outputs": [],
   "source": [
    "cursor = mydb.cursor()\n",
    "cursor.execute(\"select*from student\")"
   ]
  },
  {
   "cell_type": "code",
   "execution_count": 13,
   "metadata": {},
   "outputs": [
    {
     "data": {
      "text/plain": [
       "[(1, 'ram', 'eng', 'A'),\n",
       " (2, 'sham', 'hindi', 'A'),\n",
       " (3, 'som', 'hindi', 'A'),\n",
       " (4, 'ravi', 'marathi', 'B'),\n",
       " (5, 'dipak', 'hindi', 'A'),\n",
       " (6, 'mahesh', 'maths', 'C'),\n",
       " (7, 'shivani', 'Stat', 'A'),\n",
       " (8, 'Joe', 'maths', 'B'),\n",
       " (9, 'Ankur', 'maths', 'B'),\n",
       " (10, 'Paul', 'eng', 'A'),\n",
       " (11, 'Vishal', 'Maths', 'B'),\n",
       " (12, 'Krish', 'stat', 'A'),\n",
       " (13, 'shivani', 'Stat', 'A'),\n",
       " (14, 'Joe', 'maths', 'B'),\n",
       " (15, 'Ankur', 'math', 'B'),\n",
       " (16, 'Paul', 'eng', 'A'),\n",
       " (17, 'Vishal', 'Maths', 'B'),\n",
       " (18, 'Krish', 'stat', 'A'),\n",
       " (19, 'shivani', 'Stat', 'A'),\n",
       " (20, 'Joe', 'maths', 'B'),\n",
       " (21, 'Ankur', 'math', 'B'),\n",
       " (22, 'Paul', 'eng', 'A'),\n",
       " (23, 'Vishal', 'Maths', 'B'),\n",
       " (24, 'Krish', 'stat', 'A'),\n",
       " (25, 'shivani', 'Stat', 'A'),\n",
       " (26, 'Joe', 'maths', 'B'),\n",
       " (27, 'Ankur', 'math', 'B'),\n",
       " (28, 'Paul', 'eng', 'A'),\n",
       " (29, 'Vishal', 'Maths', 'B'),\n",
       " (30, 'Krish', 'stat', 'A'),\n",
       " (31, 'shivani', 'Stat', 'A'),\n",
       " (32, 'Joe', 'maths', 'B'),\n",
       " (33, 'Ankur', 'math', 'B'),\n",
       " (34, 'Paul', 'eng', 'A'),\n",
       " (35, 'Vishal', 'Maths', 'B'),\n",
       " (36, 'Krish', 'stat', 'A')]"
      ]
     },
     "execution_count": 13,
     "metadata": {},
     "output_type": "execute_result"
    }
   ],
   "source": [
    "cursor.fetchall()"
   ]
  },
  {
   "cell_type": "markdown",
   "metadata": {},
   "source": [
    "### We can update existing records in a table by using the \"UPDATE\" statement: "
   ]
  },
  {
   "cell_type": "code",
   "execution_count": 14,
   "metadata": {},
   "outputs": [
    {
     "name": "stdout",
     "output_type": "stream",
     "text": [
      "0 record(s) affected\n"
     ]
    }
   ],
   "source": [
    "query=\"UPDATE students1 SET name = 'Prakash' WHERE roll_no = '10'\"\n",
    "cursor.execute(query)\n",
    "mydb.commit()\n",
    "print(cursor.rowcount, \"record(s) affected\")"
   ]
  },
  {
   "cell_type": "code",
   "execution_count": 15,
   "metadata": {},
   "outputs": [
    {
     "name": "stdout",
     "output_type": "stream",
     "text": [
      "0 record(s) affected\n"
     ]
    }
   ],
   "source": [
    "query=\"UPDATE student SET sub = 'maths' WHERE roll_no = '9'\"\n",
    "cursor.execute(query)\n",
    "mydb.commit()\n",
    "print(cursor.rowcount, \"record(s) affected\")"
   ]
  },
  {
   "cell_type": "code",
   "execution_count": 16,
   "metadata": {},
   "outputs": [],
   "source": [
    "cursor = mydb.cursor()\n",
    "#cursor.execute(\"select*from students1\")\n",
    "cursor.execute(\"select*from student\")"
   ]
  },
  {
   "cell_type": "code",
   "execution_count": 17,
   "metadata": {
    "scrolled": true
   },
   "outputs": [],
   "source": [
    "#cursor.fetchall()"
   ]
  },
  {
   "cell_type": "markdown",
   "metadata": {},
   "source": [
    "### Select Perticular Row"
   ]
  },
  {
   "cell_type": "code",
   "execution_count": 21,
   "metadata": {},
   "outputs": [],
   "source": [
    "cursor.execute(\"select * from students1 where name = 'Aakash'\")"
   ]
  },
  {
   "cell_type": "code",
   "execution_count": 22,
   "metadata": {},
   "outputs": [
    {
     "data": {
      "text/plain": [
       "[(9, 'Aakash', 'stat', 'A'),\n",
       " (11, 'Aakash', 'physics', 'A'),\n",
       " (12, 'Aakash', 'physics', 'A'),\n",
       " (13, 'Aakash', 'physics', 'A'),\n",
       " (14, 'Aakash', 'physics', 'A')]"
      ]
     },
     "execution_count": 22,
     "metadata": {},
     "output_type": "execute_result"
    }
   ],
   "source": [
    "cursor.fetchall()"
   ]
  },
  {
   "cell_type": "markdown",
   "metadata": {},
   "source": [
    "## select distinct column"
   ]
  },
  {
   "cell_type": "code",
   "execution_count": 23,
   "metadata": {},
   "outputs": [
    {
     "data": {
      "text/plain": [
       "[('akash', 'maths'),\n",
       " ('Aakash', 'stat'),\n",
       " ('Aakash', 'physics'),\n",
       " ('Aakash', 'physics'),\n",
       " ('Aakash', 'physics'),\n",
       " ('Aakash', 'physics')]"
      ]
     },
     "execution_count": 23,
     "metadata": {},
     "output_type": "execute_result"
    }
   ],
   "source": [
    "cursor.execute(\"select name,sub from students1 where name='Aakash' or sub = 'maths'\")\n",
    "cursor.fetchall()"
   ]
  },
  {
   "cell_type": "markdown",
   "metadata": {},
   "source": [
    "## select another database "
   ]
  },
  {
   "cell_type": "code",
   "execution_count": 24,
   "metadata": {},
   "outputs": [],
   "source": [
    "mydb.cursor()\n",
    "cursor.execute(\"show databases\")"
   ]
  },
  {
   "cell_type": "code",
   "execution_count": 25,
   "metadata": {},
   "outputs": [
    {
     "name": "stdout",
     "output_type": "stream",
     "text": [
      "('abcd',)\n",
      "('attrition',)\n",
      "('cars',)\n",
      "('demo1',)\n",
      "('fake',)\n",
      "('indian_cars',)\n",
      "('information_schema',)\n",
      "('ipl',)\n",
      "('joins',)\n",
      "('mydb',)\n",
      "('mysql',)\n",
      "('performance_schema',)\n",
      "('practice',)\n",
      "('sakila',)\n",
      "('students',)\n",
      "('sys',)\n",
      "('world',)\n"
     ]
    }
   ],
   "source": [
    "for x in cursor:\n",
    "    print(x)"
   ]
  },
  {
   "cell_type": "code",
   "execution_count": 26,
   "metadata": {},
   "outputs": [],
   "source": [
    "cursor.execute(\"use indian_cars\")"
   ]
  },
  {
   "cell_type": "code",
   "execution_count": 27,
   "metadata": {},
   "outputs": [],
   "source": [
    "cursor.execute(\"show tables\")"
   ]
  },
  {
   "cell_type": "code",
   "execution_count": 28,
   "metadata": {},
   "outputs": [
    {
     "data": {
      "text/plain": [
       "[('honda',), ('hyundai',)]"
      ]
     },
     "execution_count": 28,
     "metadata": {},
     "output_type": "execute_result"
    }
   ],
   "source": [
    "cursor.fetchall()"
   ]
  },
  {
   "cell_type": "code",
   "execution_count": 29,
   "metadata": {},
   "outputs": [],
   "source": [
    "cursor.execute(\"select * from Honda\")"
   ]
  },
  {
   "cell_type": "code",
   "execution_count": 30,
   "metadata": {},
   "outputs": [
    {
     "data": {
      "text/plain": [
       "[(1, 'hatchback', 5, 'petrol', 'brio'),\n",
       " (2, 'suv', 5, 'petrol & Diesel', 'CR-V'),\n",
       " (3, 'Sedan', 5, 'petrol & Diesel', 'Civic'),\n",
       " (4, 'suv', 5, 'petrol & Diesel', 'BR-V'),\n",
       " (5, 'Sedan', 5, 'petrol & Diesel', 'City')]"
      ]
     },
     "execution_count": 30,
     "metadata": {},
     "output_type": "execute_result"
    }
   ],
   "source": [
    "cursor.fetchall()"
   ]
  },
  {
   "cell_type": "markdown",
   "metadata": {},
   "source": [
    "### Alter function\n"
   ]
  },
  {
   "cell_type": "code",
   "execution_count": 31,
   "metadata": {},
   "outputs": [],
   "source": [
    "#Add column\n",
    "cursor.execute(\"alter table Honda add air_bag int(10)\")"
   ]
  },
  {
   "cell_type": "code",
   "execution_count": 32,
   "metadata": {},
   "outputs": [],
   "source": [
    "cursor.execute(\"select * from Honda\")"
   ]
  },
  {
   "cell_type": "code",
   "execution_count": 33,
   "metadata": {},
   "outputs": [
    {
     "data": {
      "text/plain": [
       "[(1, 'hatchback', 5, 'petrol', 'brio', None),\n",
       " (2, 'suv', 5, 'petrol & Diesel', 'CR-V', None),\n",
       " (3, 'Sedan', 5, 'petrol & Diesel', 'Civic', None),\n",
       " (4, 'suv', 5, 'petrol & Diesel', 'BR-V', None),\n",
       " (5, 'Sedan', 5, 'petrol & Diesel', 'City', None)]"
      ]
     },
     "execution_count": 33,
     "metadata": {},
     "output_type": "execute_result"
    }
   ],
   "source": [
    "cursor.fetchall()"
   ]
  },
  {
   "cell_type": "markdown",
   "metadata": {},
   "source": [
    "#### none values represents air_bag column"
   ]
  },
  {
   "cell_type": "code",
   "execution_count": 34,
   "metadata": {},
   "outputs": [],
   "source": [
    "#rename column\n",
    "cursor.execute(\"ALTER TABLE Honda RENAME COLUMN air_bag TO engine\")"
   ]
  },
  {
   "cell_type": "code",
   "execution_count": 35,
   "metadata": {},
   "outputs": [],
   "source": [
    "cursor.execute(\"select * from Honda\")"
   ]
  },
  {
   "cell_type": "code",
   "execution_count": 36,
   "metadata": {},
   "outputs": [
    {
     "data": {
      "text/plain": [
       "[(1, 'hatchback', 5, 'petrol', 'brio', None),\n",
       " (2, 'suv', 5, 'petrol & Diesel', 'CR-V', None),\n",
       " (3, 'Sedan', 5, 'petrol & Diesel', 'Civic', None),\n",
       " (4, 'suv', 5, 'petrol & Diesel', 'BR-V', None),\n",
       " (5, 'Sedan', 5, 'petrol & Diesel', 'City', None)]"
      ]
     },
     "execution_count": 36,
     "metadata": {},
     "output_type": "execute_result"
    }
   ],
   "source": [
    "cursor.fetchall()"
   ]
  },
  {
   "cell_type": "markdown",
   "metadata": {},
   "source": [
    "#### none values represents engine column"
   ]
  },
  {
   "cell_type": "code",
   "execution_count": 37,
   "metadata": {},
   "outputs": [],
   "source": [
    "#drop column\n",
    "cursor.execute(\"alter table Honda drop engine\")"
   ]
  },
  {
   "cell_type": "code",
   "execution_count": 38,
   "metadata": {},
   "outputs": [],
   "source": [
    "cursor.execute(\"select * from Honda\")"
   ]
  },
  {
   "cell_type": "code",
   "execution_count": 39,
   "metadata": {},
   "outputs": [
    {
     "data": {
      "text/plain": [
       "[(1, 'hatchback', 5, 'petrol', 'brio'),\n",
       " (2, 'suv', 5, 'petrol & Diesel', 'CR-V'),\n",
       " (3, 'Sedan', 5, 'petrol & Diesel', 'Civic'),\n",
       " (4, 'suv', 5, 'petrol & Diesel', 'BR-V'),\n",
       " (5, 'Sedan', 5, 'petrol & Diesel', 'City')]"
      ]
     },
     "execution_count": 39,
     "metadata": {},
     "output_type": "execute_result"
    }
   ],
   "source": [
    "cursor.fetchall()"
   ]
  },
  {
   "cell_type": "markdown",
   "metadata": {},
   "source": [
    "### SQL Count Min, Max, Sum, Avrage Functions"
   ]
  },
  {
   "cell_type": "code",
   "execution_count": 40,
   "metadata": {},
   "outputs": [],
   "source": [
    "cursor.execute(\"show databases\")"
   ]
  },
  {
   "cell_type": "code",
   "execution_count": 41,
   "metadata": {},
   "outputs": [
    {
     "name": "stdout",
     "output_type": "stream",
     "text": [
      "('abcd',)\n",
      "('attrition',)\n",
      "('cars',)\n",
      "('demo1',)\n",
      "('fake',)\n",
      "('indian_cars',)\n",
      "('information_schema',)\n",
      "('ipl',)\n",
      "('joins',)\n",
      "('mydb',)\n",
      "('mysql',)\n",
      "('performance_schema',)\n",
      "('practice',)\n",
      "('sakila',)\n",
      "('students',)\n",
      "('sys',)\n",
      "('world',)\n"
     ]
    }
   ],
   "source": [
    "for x in cursor:\n",
    "    print(x)"
   ]
  },
  {
   "cell_type": "code",
   "execution_count": 42,
   "metadata": {},
   "outputs": [],
   "source": [
    "cursor.execute(\"use attrition\")"
   ]
  },
  {
   "cell_type": "code",
   "execution_count": 43,
   "metadata": {},
   "outputs": [],
   "source": [
    "cursor.execute(\"show tables\")"
   ]
  },
  {
   "cell_type": "code",
   "execution_count": 44,
   "metadata": {},
   "outputs": [
    {
     "data": {
      "text/plain": [
       "[('attrition01',), ('table1',), ('table2',)]"
      ]
     },
     "execution_count": 44,
     "metadata": {},
     "output_type": "execute_result"
    }
   ],
   "source": [
    "cursor.fetchall()"
   ]
  },
  {
   "cell_type": "code",
   "execution_count": 45,
   "metadata": {},
   "outputs": [],
   "source": [
    "cursor.execute(\"select * from attrition01\")"
   ]
  },
  {
   "cell_type": "code",
   "execution_count": 47,
   "metadata": {},
   "outputs": [],
   "source": [
    "#cursor.fetchall()"
   ]
  },
  {
   "cell_type": "code",
   "execution_count": 48,
   "metadata": {},
   "outputs": [],
   "source": [
    "#The COUNT() function returns the number of rows that matches a specified criterion.\n",
    "cursor.execute(\"select count(MonthlyIncome) from attrition01\")"
   ]
  },
  {
   "cell_type": "code",
   "execution_count": 49,
   "metadata": {},
   "outputs": [
    {
     "data": {
      "text/plain": [
       "[(48,)]"
      ]
     },
     "execution_count": 49,
     "metadata": {},
     "output_type": "execute_result"
    }
   ],
   "source": [
    "cursor.fetchall()"
   ]
  },
  {
   "cell_type": "code",
   "execution_count": 50,
   "metadata": {},
   "outputs": [],
   "source": [
    "#The SUM() function returns the total sum of a numeric column. \n",
    "cursor.execute(\"select SUM(MonthlyIncome) from attrition01\")"
   ]
  },
  {
   "cell_type": "code",
   "execution_count": 51,
   "metadata": {},
   "outputs": [
    {
     "data": {
      "text/plain": [
       "[(Decimal('190674'),)]"
      ]
     },
     "execution_count": 51,
     "metadata": {},
     "output_type": "execute_result"
    }
   ],
   "source": [
    "cursor.fetchall()"
   ]
  },
  {
   "cell_type": "code",
   "execution_count": 52,
   "metadata": {},
   "outputs": [],
   "source": [
    "#The MIN() function returns the smallest value of the selected column.\n",
    "cursor.execute(\"select min(MonthlyIncome) from attrition01\")"
   ]
  },
  {
   "cell_type": "code",
   "execution_count": 53,
   "metadata": {},
   "outputs": [
    {
     "data": {
      "text/plain": [
       "[(1232,)]"
      ]
     },
     "execution_count": 53,
     "metadata": {},
     "output_type": "execute_result"
    }
   ],
   "source": [
    "cursor.fetchall()"
   ]
  },
  {
   "cell_type": "code",
   "execution_count": 54,
   "metadata": {},
   "outputs": [],
   "source": [
    "#The MAX() function returns the largest value of the selected column.\n",
    "cursor.execute(\"select max(MonthlyIncome) from attrition01\")"
   ]
  },
  {
   "cell_type": "code",
   "execution_count": 55,
   "metadata": {},
   "outputs": [
    {
     "data": {
      "text/plain": [
       "[(10248,)]"
      ]
     },
     "execution_count": 55,
     "metadata": {},
     "output_type": "execute_result"
    }
   ],
   "source": [
    "cursor.fetchall()"
   ]
  },
  {
   "cell_type": "code",
   "execution_count": 56,
   "metadata": {},
   "outputs": [],
   "source": [
    "#The AVG() function returns the average value of a numeric column. \n",
    "cursor.execute(\"select avg(MonthlyIncome) from attrition01\")"
   ]
  },
  {
   "cell_type": "code",
   "execution_count": 57,
   "metadata": {},
   "outputs": [
    {
     "data": {
      "text/plain": [
       "[(Decimal('3972.3750'),)]"
      ]
     },
     "execution_count": 57,
     "metadata": {},
     "output_type": "execute_result"
    }
   ],
   "source": [
    "cursor.fetchall()"
   ]
  }
 ],
 "metadata": {
  "kernelspec": {
   "display_name": "Python 3",
   "language": "python",
   "name": "python3"
  },
  "language_info": {
   "codemirror_mode": {
    "name": "ipython",
    "version": 3
   },
   "file_extension": ".py",
   "mimetype": "text/x-python",
   "name": "python",
   "nbconvert_exporter": "python",
   "pygments_lexer": "ipython3",
   "version": "3.8.3"
  }
 },
 "nbformat": 4,
 "nbformat_minor": 4
}
