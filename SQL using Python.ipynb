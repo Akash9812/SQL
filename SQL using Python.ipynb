{
 "cells": [
  {
   "cell_type": "markdown",
   "metadata": {},
   "source": [
    "## Installation"
   ]
  },
  {
   "cell_type": "code",
   "execution_count": null,
   "metadata": {},
   "outputs": [],
   "source": [
    "pip install PyMySql"
   ]
  },
  {
   "cell_type": "code",
   "execution_count": null,
   "metadata": {},
   "outputs": [],
   "source": [
    "pip install mysql-connector"
   ]
  },
  {
   "cell_type": "code",
   "execution_count": 81,
   "metadata": {},
   "outputs": [],
   "source": [
    "import mysql.connector"
   ]
  },
  {
   "cell_type": "markdown",
   "metadata": {},
   "source": [
    "## Creating SQL connection and connect"
   ]
  },
  {
   "cell_type": "code",
   "execution_count": 82,
   "metadata": {},
   "outputs": [
    {
     "name": "stdout",
     "output_type": "stream",
     "text": [
      "<mysql.connector.connection_cext.CMySQLConnection object at 0x0000023CD16E54C0>\n"
     ]
    }
   ],
   "source": [
    "mydb = mysql.connector.connect(\n",
    "  host=\"localhost\",\n",
    "  user=\"root\",\n",
    "  password=\"Aia#9812\"\n",
    ")\n",
    "\n",
    "print(mydb)"
   ]
  },
  {
   "cell_type": "code",
   "execution_count": 83,
   "metadata": {},
   "outputs": [],
   "source": [
    "cursor = mydb.cursor()\n",
    "\n",
    "cursor.execute(\"SHOW DATABASES\")"
   ]
  },
  {
   "cell_type": "code",
   "execution_count": 84,
   "metadata": {},
   "outputs": [
    {
     "name": "stdout",
     "output_type": "stream",
     "text": [
      "('abcd',)\n",
      "('attrition',)\n",
      "('cars',)\n",
      "('demo1',)\n",
      "('fake',)\n",
      "('indian_cars',)\n",
      "('information_schema',)\n",
      "('ipl',)\n",
      "('joins',)\n",
      "('mydb',)\n",
      "('mysql',)\n",
      "('performance_schema',)\n",
      "('practice',)\n",
      "('sakila',)\n",
      "('students',)\n",
      "('sys',)\n",
      "('world',)\n"
     ]
    }
   ],
   "source": [
    "for x in cursor:\n",
    "    print(x)"
   ]
  },
  {
   "cell_type": "code",
   "execution_count": 85,
   "metadata": {},
   "outputs": [],
   "source": [
    "cursor.execute(\"USE students\")"
   ]
  },
  {
   "cell_type": "code",
   "execution_count": 86,
   "metadata": {},
   "outputs": [],
   "source": [
    "cursor.execute(\"show tables\")"
   ]
  },
  {
   "cell_type": "code",
   "execution_count": 87,
   "metadata": {},
   "outputs": [
    {
     "name": "stdout",
     "output_type": "stream",
     "text": [
      "('student',)\n",
      "('students1',)\n"
     ]
    }
   ],
   "source": [
    "for x in cursor:\n",
    "    print(x)"
   ]
  },
  {
   "cell_type": "code",
   "execution_count": 88,
   "metadata": {},
   "outputs": [],
   "source": [
    "cursor.execute(\"SELECT * FROM students1\")"
   ]
  },
  {
   "cell_type": "code",
   "execution_count": 89,
   "metadata": {},
   "outputs": [
    {
     "name": "stdout",
     "output_type": "stream",
     "text": [
      "(1, 'sanket', 'stat', 'A')\n",
      "(2, 'shrya', 'mvs', 'B')\n",
      "(3, 'vijay', 'infarence', 'C')\n",
      "(4, 'akash', 'maths', 'c')\n",
      "(5, 'akshay', 'hindi', 'B')\n",
      "(6, 'viraj', 'marathi', 'B')\n",
      "(9, 'Aakash', 'stat', 'A')\n",
      "(10, 'Prakash', 'physics', 'A')\n"
     ]
    }
   ],
   "source": [
    "for x in cursor:\n",
    "    print(x)"
   ]
  },
  {
   "cell_type": "markdown",
   "metadata": {},
   "source": [
    "## Insert Records in Table\n"
   ]
  },
  {
   "cell_type": "code",
   "execution_count": 90,
   "metadata": {},
   "outputs": [
    {
     "name": "stdout",
     "output_type": "stream",
     "text": [
      "Row inserted 11\n"
     ]
    }
   ],
   "source": [
    "query = \"INSERT INTO students1 (name,sub,grade) VALUES (%s,%s,%s)\"\n",
    "values = (\"Aakash\",\"physics\",\"A\")\n",
    "cursor.execute(query,values)\n",
    "print(\"Row inserted\",cursor.lastrowid)"
   ]
  },
  {
   "cell_type": "code",
   "execution_count": 91,
   "metadata": {},
   "outputs": [
    {
     "name": "stdout",
     "output_type": "stream",
     "text": [
      "Row inserted 13\n"
     ]
    }
   ],
   "source": [
    "### Insert multiple records in Table\n",
    "query = \"INSERT INTO student (name, sub,grade) VALUES (%s,%s, %s)\"\n",
    "values = [(\"shivani\", \"Stat\",\"A\"),\n",
    "        (\"Joe\", \"maths\",\"B\"),\n",
    "        (\"Ankur\",\"math\",\"B\"),\n",
    "        (\"Paul\",\"eng\",\"A\"),\n",
    "        (\"Vishal\",\"Maths\",\"B\"),\n",
    "        (\"Krish\",\"stat\",\"A\")]\n",
    "cursor.executemany(query,values)\n",
    "print(\"Row inserted\",cursor.lastrowid)"
   ]
  },
  {
   "cell_type": "markdown",
   "metadata": {},
   "source": [
    "#### Select All "
   ]
  },
  {
   "cell_type": "code",
   "execution_count": 92,
   "metadata": {},
   "outputs": [],
   "source": [
    "cursor = mydb.cursor()\n",
    "cursor.execute(\"select*from student\")"
   ]
  },
  {
   "cell_type": "code",
   "execution_count": 93,
   "metadata": {},
   "outputs": [
    {
     "data": {
      "text/plain": [
       "[(1, 'ram', 'eng', 'A'),\n",
       " (2, 'sham', 'hindi', 'A'),\n",
       " (3, 'som', 'hindi', 'A'),\n",
       " (4, 'ravi', 'marathi', 'B'),\n",
       " (5, 'dipak', 'hindi', 'A'),\n",
       " (6, 'mahesh', 'maths', 'C'),\n",
       " (7, 'shivani', 'Stat', 'A'),\n",
       " (8, 'Joe', 'maths', 'B'),\n",
       " (9, 'Ankur', 'maths', 'B'),\n",
       " (10, 'Paul', 'eng', 'A'),\n",
       " (11, 'Vishal', 'Maths', 'B'),\n",
       " (12, 'Krish', 'stat', 'A'),\n",
       " (13, 'shivani', 'Stat', 'A'),\n",
       " (14, 'Joe', 'maths', 'B'),\n",
       " (15, 'Ankur', 'math', 'B'),\n",
       " (16, 'Paul', 'eng', 'A'),\n",
       " (17, 'Vishal', 'Maths', 'B'),\n",
       " (18, 'Krish', 'stat', 'A')]"
      ]
     },
     "execution_count": 93,
     "metadata": {},
     "output_type": "execute_result"
    }
   ],
   "source": [
    "cursor.fetchall()"
   ]
  },
  {
   "cell_type": "markdown",
   "metadata": {},
   "source": [
    "### We can update existing records in a table by using the \"UPDATE\" statement: "
   ]
  },
  {
   "cell_type": "code",
   "execution_count": 94,
   "metadata": {},
   "outputs": [
    {
     "name": "stdout",
     "output_type": "stream",
     "text": [
      "0 record(s) affected\n"
     ]
    }
   ],
   "source": [
    "query=\"UPDATE students1 SET name = 'Prakash' WHERE roll_no = '10'\"\n",
    "cursor.execute(query)\n",
    "mydb.commit()\n",
    "print(cursor.rowcount, \"record(s) affected\")"
   ]
  },
  {
   "cell_type": "code",
   "execution_count": 95,
   "metadata": {},
   "outputs": [
    {
     "name": "stdout",
     "output_type": "stream",
     "text": [
      "0 record(s) affected\n"
     ]
    }
   ],
   "source": [
    "query=\"UPDATE student SET sub = 'maths' WHERE roll_no = '9'\"\n",
    "cursor.execute(query)\n",
    "mydb.commit()\n",
    "print(cursor.rowcount, \"record(s) affected\")"
   ]
  },
  {
   "cell_type": "code",
   "execution_count": 96,
   "metadata": {},
   "outputs": [],
   "source": [
    "cursor = mydb.cursor()\n",
    "#cursor.execute(\"select*from students1\")\n",
    "cursor.execute(\"select*from student\")"
   ]
  },
  {
   "cell_type": "code",
   "execution_count": 97,
   "metadata": {
    "scrolled": true
   },
   "outputs": [
    {
     "data": {
      "text/plain": [
       "[(1, 'ram', 'eng', 'A'),\n",
       " (2, 'sham', 'hindi', 'A'),\n",
       " (3, 'som', 'hindi', 'A'),\n",
       " (4, 'ravi', 'marathi', 'B'),\n",
       " (5, 'dipak', 'hindi', 'A'),\n",
       " (6, 'mahesh', 'maths', 'C'),\n",
       " (7, 'shivani', 'Stat', 'A'),\n",
       " (8, 'Joe', 'maths', 'B'),\n",
       " (9, 'Ankur', 'maths', 'B'),\n",
       " (10, 'Paul', 'eng', 'A'),\n",
       " (11, 'Vishal', 'Maths', 'B'),\n",
       " (12, 'Krish', 'stat', 'A'),\n",
       " (13, 'shivani', 'Stat', 'A'),\n",
       " (14, 'Joe', 'maths', 'B'),\n",
       " (15, 'Ankur', 'math', 'B'),\n",
       " (16, 'Paul', 'eng', 'A'),\n",
       " (17, 'Vishal', 'Maths', 'B'),\n",
       " (18, 'Krish', 'stat', 'A')]"
      ]
     },
     "execution_count": 97,
     "metadata": {},
     "output_type": "execute_result"
    }
   ],
   "source": [
    "cursor.fetchall()"
   ]
  },
  {
   "cell_type": "markdown",
   "metadata": {},
   "source": [
    "### Select Perticular Row"
   ]
  },
  {
   "cell_type": "code",
   "execution_count": 98,
   "metadata": {},
   "outputs": [],
   "source": [
    "cursor.execute(\"select * from students1 where name = 'Aakash'\")"
   ]
  },
  {
   "cell_type": "code",
   "execution_count": 99,
   "metadata": {},
   "outputs": [
    {
     "data": {
      "text/plain": [
       "[(9, 'Aakash', 'stat', 'A'), (11, 'Aakash', 'physics', 'A')]"
      ]
     },
     "execution_count": 99,
     "metadata": {},
     "output_type": "execute_result"
    }
   ],
   "source": [
    "cursor.fetchall()"
   ]
  },
  {
   "cell_type": "markdown",
   "metadata": {},
   "source": [
    "## select distinct column"
   ]
  },
  {
   "cell_type": "markdown",
   "metadata": {},
   "source": [
    "cursor.execute(\"select distinct sub from student\")\n",
    "cursor.fetchall()"
   ]
  },
  {
   "cell_type": "code",
   "execution_count": 100,
   "metadata": {},
   "outputs": [
    {
     "data": {
      "text/plain": [
       "[('akash', 'maths'), ('Aakash', 'stat'), ('Aakash', 'physics')]"
      ]
     },
     "execution_count": 100,
     "metadata": {},
     "output_type": "execute_result"
    }
   ],
   "source": [
    "cursor.execute(\"select name,sub from students1 where name='Aakash' or sub = 'maths'\")\n",
    "cursor.fetchall()"
   ]
  },
  {
   "cell_type": "markdown",
   "metadata": {},
   "source": [
    "## select another database "
   ]
  },
  {
   "cell_type": "code",
   "execution_count": 101,
   "metadata": {},
   "outputs": [],
   "source": [
    "mydb.cursor()\n",
    "cursor.execute(\"show databases\")"
   ]
  },
  {
   "cell_type": "code",
   "execution_count": 102,
   "metadata": {},
   "outputs": [
    {
     "name": "stdout",
     "output_type": "stream",
     "text": [
      "('abcd',)\n",
      "('attrition',)\n",
      "('cars',)\n",
      "('demo1',)\n",
      "('fake',)\n",
      "('indian_cars',)\n",
      "('information_schema',)\n",
      "('ipl',)\n",
      "('joins',)\n",
      "('mydb',)\n",
      "('mysql',)\n",
      "('performance_schema',)\n",
      "('practice',)\n",
      "('sakila',)\n",
      "('students',)\n",
      "('sys',)\n",
      "('world',)\n"
     ]
    }
   ],
   "source": [
    "for x in cursor:\n",
    "    print(x)"
   ]
  },
  {
   "cell_type": "code",
   "execution_count": 103,
   "metadata": {},
   "outputs": [],
   "source": [
    "cursor.execute(\"use indian_cars\")"
   ]
  },
  {
   "cell_type": "code",
   "execution_count": 104,
   "metadata": {},
   "outputs": [],
   "source": [
    "cursor.execute(\"show tables\")"
   ]
  },
  {
   "cell_type": "code",
   "execution_count": 105,
   "metadata": {},
   "outputs": [
    {
     "data": {
      "text/plain": [
       "[('honda',), ('hyundai',)]"
      ]
     },
     "execution_count": 105,
     "metadata": {},
     "output_type": "execute_result"
    }
   ],
   "source": [
    "cursor.fetchall()"
   ]
  },
  {
   "cell_type": "code",
   "execution_count": 21,
   "metadata": {},
   "outputs": [],
   "source": [
    "cursor.execute(\"select * from Honda\")"
   ]
  },
  {
   "cell_type": "code",
   "execution_count": 12,
   "metadata": {},
   "outputs": [
    {
     "data": {
      "text/plain": [
       "[(1, 'hatchback', 5, 'petrol', 'brio'),\n",
       " (2, 'suv', 5, 'petrol & Diesel', 'CR-V'),\n",
       " (3, 'Sedan', 5, 'petrol & Diesel', 'Civic'),\n",
       " (4, 'suv', 5, 'petrol & Diesel', 'BR-V'),\n",
       " (5, 'Sedan', 5, 'petrol & Diesel', 'City')]"
      ]
     },
     "execution_count": 12,
     "metadata": {},
     "output_type": "execute_result"
    }
   ],
   "source": [
    "cursor.fetchall()"
   ]
  },
  {
   "cell_type": "markdown",
   "metadata": {},
   "source": [
    "### Alter function\n"
   ]
  },
  {
   "cell_type": "code",
   "execution_count": 46,
   "metadata": {},
   "outputs": [],
   "source": [
    "#Add column\n",
    "cursor.execute(\"alter table Honda add air_bag int(10)\")"
   ]
  },
  {
   "cell_type": "code",
   "execution_count": 47,
   "metadata": {},
   "outputs": [],
   "source": [
    "cursor.execute(\"select * from Honda\")"
   ]
  },
  {
   "cell_type": "code",
   "execution_count": 48,
   "metadata": {},
   "outputs": [
    {
     "data": {
      "text/plain": [
       "[(1, 'hatchback', 5, 'petrol', 'brio', None),\n",
       " (2, 'suv', 5, 'petrol & Diesel', 'CR-V', None),\n",
       " (3, 'Sedan', 5, 'petrol & Diesel', 'Civic', None),\n",
       " (4, 'suv', 5, 'petrol & Diesel', 'BR-V', None),\n",
       " (5, 'Sedan', 5, 'petrol & Diesel', 'City', None)]"
      ]
     },
     "execution_count": 48,
     "metadata": {},
     "output_type": "execute_result"
    }
   ],
   "source": [
    "cursor.fetchall()"
   ]
  },
  {
   "cell_type": "markdown",
   "metadata": {},
   "source": [
    "#### none values represents air_bag column"
   ]
  },
  {
   "cell_type": "code",
   "execution_count": 49,
   "metadata": {},
   "outputs": [],
   "source": [
    "#rename column\n",
    "cursor.execute(\"ALTER TABLE Honda RENAME COLUMN air_bag TO engine\")"
   ]
  },
  {
   "cell_type": "code",
   "execution_count": 50,
   "metadata": {},
   "outputs": [],
   "source": [
    "cursor.execute(\"select * from Honda\")"
   ]
  },
  {
   "cell_type": "code",
   "execution_count": 51,
   "metadata": {},
   "outputs": [
    {
     "data": {
      "text/plain": [
       "[(1, 'hatchback', 5, 'petrol', 'brio', None),\n",
       " (2, 'suv', 5, 'petrol & Diesel', 'CR-V', None),\n",
       " (3, 'Sedan', 5, 'petrol & Diesel', 'Civic', None),\n",
       " (4, 'suv', 5, 'petrol & Diesel', 'BR-V', None),\n",
       " (5, 'Sedan', 5, 'petrol & Diesel', 'City', None)]"
      ]
     },
     "execution_count": 51,
     "metadata": {},
     "output_type": "execute_result"
    }
   ],
   "source": [
    "cursor.fetchall()"
   ]
  },
  {
   "cell_type": "markdown",
   "metadata": {},
   "source": [
    "#### none values represents engine column"
   ]
  },
  {
   "cell_type": "code",
   "execution_count": 52,
   "metadata": {},
   "outputs": [],
   "source": [
    "#drop column\n",
    "cursor.execute(\"alter table Honda drop engine\")"
   ]
  },
  {
   "cell_type": "code",
   "execution_count": 53,
   "metadata": {},
   "outputs": [],
   "source": [
    "cursor.execute(\"select * from Honda\")"
   ]
  },
  {
   "cell_type": "code",
   "execution_count": 54,
   "metadata": {},
   "outputs": [
    {
     "data": {
      "text/plain": [
       "[(1, 'hatchback', 5, 'petrol', 'brio'),\n",
       " (2, 'suv', 5, 'petrol & Diesel', 'CR-V'),\n",
       " (3, 'Sedan', 5, 'petrol & Diesel', 'Civic'),\n",
       " (4, 'suv', 5, 'petrol & Diesel', 'BR-V'),\n",
       " (5, 'Sedan', 5, 'petrol & Diesel', 'City')]"
      ]
     },
     "execution_count": 54,
     "metadata": {},
     "output_type": "execute_result"
    }
   ],
   "source": [
    "cursor.fetchall()"
   ]
  },
  {
   "cell_type": "markdown",
   "metadata": {},
   "source": [
    "### SQL Count Min, Max, Sum, Avrage Functions"
   ]
  },
  {
   "cell_type": "code",
   "execution_count": 55,
   "metadata": {},
   "outputs": [],
   "source": [
    "cursor.execute(\"show databases\")"
   ]
  },
  {
   "cell_type": "code",
   "execution_count": 57,
   "metadata": {},
   "outputs": [
    {
     "name": "stdout",
     "output_type": "stream",
     "text": [
      "('abcd',)\n",
      "('attrition',)\n",
      "('cars',)\n",
      "('demo1',)\n",
      "('fake',)\n",
      "('indian_cars',)\n",
      "('information_schema',)\n",
      "('ipl',)\n",
      "('joins',)\n",
      "('mydb',)\n",
      "('mysql',)\n",
      "('performance_schema',)\n",
      "('practice',)\n",
      "('sakila',)\n",
      "('students',)\n",
      "('sys',)\n",
      "('world',)\n"
     ]
    }
   ],
   "source": [
    "for x in cursor:\n",
    "    print(x)"
   ]
  },
  {
   "cell_type": "code",
   "execution_count": 58,
   "metadata": {},
   "outputs": [],
   "source": [
    "cursor.execute(\"use attrition\")"
   ]
  },
  {
   "cell_type": "code",
   "execution_count": 59,
   "metadata": {},
   "outputs": [],
   "source": [
    "cursor.execute(\"show tables\")"
   ]
  },
  {
   "cell_type": "code",
   "execution_count": 60,
   "metadata": {},
   "outputs": [
    {
     "data": {
      "text/plain": [
       "[('attrition01',), ('table1',), ('table2',)]"
      ]
     },
     "execution_count": 60,
     "metadata": {},
     "output_type": "execute_result"
    }
   ],
   "source": [
    "cursor.fetchall()"
   ]
  },
  {
   "cell_type": "code",
   "execution_count": 61,
   "metadata": {},
   "outputs": [],
   "source": [
    "cursor.execute(\"select * from attrition01\")"
   ]
  },
  {
   "cell_type": "code",
   "execution_count": 62,
   "metadata": {},
   "outputs": [
    {
     "data": {
      "text/plain": [
       "[(1,\n",
       "  41,\n",
       "  'Travel_Rarely',\n",
       "  802,\n",
       "  'Sales',\n",
       "  1,\n",
       "  'Life Sciences',\n",
       "  'Female',\n",
       "  94,\n",
       "  'Sales Executive',\n",
       "  4,\n",
       "  5993,\n",
       "  8,\n",
       "  'Yes',\n",
       "  11,\n",
       "  3,\n",
       "  1,\n",
       "  6,\n",
       "  0,\n",
       "  5),\n",
       " (0,\n",
       "  49,\n",
       "  'Travel_Frequently',\n",
       "  279,\n",
       "  'Research & Development',\n",
       "  8,\n",
       "  'Life Sciences',\n",
       "  'Male',\n",
       "  61,\n",
       "  'Research Scientist',\n",
       "  2,\n",
       "  5130,\n",
       "  1,\n",
       "  'No',\n",
       "  23,\n",
       "  4,\n",
       "  3,\n",
       "  10,\n",
       "  1,\n",
       "  7),\n",
       " (1,\n",
       "  36,\n",
       "  'Travel_Rarely',\n",
       "  1373,\n",
       "  'Research & Development',\n",
       "  2,\n",
       "  'Other',\n",
       "  'Male',\n",
       "  66,\n",
       "  'Laboratory Technician',\n",
       "  3,\n",
       "  2090,\n",
       "  6,\n",
       "  'Yes',\n",
       "  15,\n",
       "  3,\n",
       "  3,\n",
       "  0,\n",
       "  0,\n",
       "  0),\n",
       " (0,\n",
       "  33,\n",
       "  'Travel_Frequently',\n",
       "  1392,\n",
       "  'Research & Development',\n",
       "  3,\n",
       "  'Life Sciences',\n",
       "  'Female',\n",
       "  56,\n",
       "  'Research Scientist',\n",
       "  3,\n",
       "  2909,\n",
       "  1,\n",
       "  'Yes',\n",
       "  11,\n",
       "  3,\n",
       "  3,\n",
       "  8,\n",
       "  3,\n",
       "  0),\n",
       " (0,\n",
       "  27,\n",
       "  'Travel_Rarely',\n",
       "  591,\n",
       "  'Research & Development',\n",
       "  2,\n",
       "  'Medical',\n",
       "  'Male',\n",
       "  40,\n",
       "  'Laboratory Technician',\n",
       "  2,\n",
       "  3468,\n",
       "  9,\n",
       "  'No',\n",
       "  12,\n",
       "  3,\n",
       "  3,\n",
       "  2,\n",
       "  2,\n",
       "  2),\n",
       " (0,\n",
       "  32,\n",
       "  'Travel_Frequently',\n",
       "  1005,\n",
       "  'Research & Development',\n",
       "  2,\n",
       "  'Life Sciences',\n",
       "  'Male',\n",
       "  79,\n",
       "  'Laboratory Technician',\n",
       "  4,\n",
       "  3068,\n",
       "  0,\n",
       "  'No',\n",
       "  13,\n",
       "  3,\n",
       "  2,\n",
       "  7,\n",
       "  3,\n",
       "  6),\n",
       " (0,\n",
       "  36,\n",
       "  'Travel_Rarely',\n",
       "  1324,\n",
       "  'Research & Development',\n",
       "  3,\n",
       "  'Medical',\n",
       "  'Female',\n",
       "  81,\n",
       "  'Laboratory Technician',\n",
       "  1,\n",
       "  2670,\n",
       "  4,\n",
       "  'Yes',\n",
       "  20,\n",
       "  4,\n",
       "  2,\n",
       "  1,\n",
       "  0,\n",
       "  0),\n",
       " (0,\n",
       "  30,\n",
       "  'Travel_Rarely',\n",
       "  1358,\n",
       "  'Research & Development',\n",
       "  24,\n",
       "  'Life Sciences',\n",
       "  'Male',\n",
       "  67,\n",
       "  'Laboratory Technician',\n",
       "  3,\n",
       "  2693,\n",
       "  1,\n",
       "  'No',\n",
       "  22,\n",
       "  4,\n",
       "  3,\n",
       "  1,\n",
       "  0,\n",
       "  0),\n",
       " (0,\n",
       "  38,\n",
       "  'Travel_Frequently',\n",
       "  216,\n",
       "  'Research & Development',\n",
       "  23,\n",
       "  'Life Sciences',\n",
       "  'Male',\n",
       "  44,\n",
       "  'Manufacturing Director',\n",
       "  3,\n",
       "  9526,\n",
       "  0,\n",
       "  'No',\n",
       "  21,\n",
       "  4,\n",
       "  3,\n",
       "  9,\n",
       "  1,\n",
       "  8),\n",
       " (0,\n",
       "  36,\n",
       "  'Travel_Rarely',\n",
       "  1299,\n",
       "  'Research & Development',\n",
       "  27,\n",
       "  'Medical',\n",
       "  'Male',\n",
       "  94,\n",
       "  'Healthcare Representative',\n",
       "  3,\n",
       "  5237,\n",
       "  6,\n",
       "  'No',\n",
       "  13,\n",
       "  3,\n",
       "  2,\n",
       "  7,\n",
       "  7,\n",
       "  7),\n",
       " (0,\n",
       "  35,\n",
       "  'Travel_Rarely',\n",
       "  809,\n",
       "  'Research & Development',\n",
       "  16,\n",
       "  'Medical',\n",
       "  'Male',\n",
       "  84,\n",
       "  'Laboratory Technician',\n",
       "  2,\n",
       "  2426,\n",
       "  0,\n",
       "  'No',\n",
       "  13,\n",
       "  3,\n",
       "  3,\n",
       "  5,\n",
       "  0,\n",
       "  3),\n",
       " (0,\n",
       "  29,\n",
       "  'Travel_Rarely',\n",
       "  153,\n",
       "  'Research & Development',\n",
       "  15,\n",
       "  'Life Sciences',\n",
       "  'Female',\n",
       "  49,\n",
       "  'Laboratory Technician',\n",
       "  3,\n",
       "  4193,\n",
       "  0,\n",
       "  'Yes',\n",
       "  12,\n",
       "  3,\n",
       "  3,\n",
       "  9,\n",
       "  0,\n",
       "  8),\n",
       " (0,\n",
       "  31,\n",
       "  'Travel_Rarely',\n",
       "  670,\n",
       "  'Research & Development',\n",
       "  26,\n",
       "  'Life Sciences',\n",
       "  'Male',\n",
       "  31,\n",
       "  'Research Scientist',\n",
       "  3,\n",
       "  2911,\n",
       "  1,\n",
       "  'No',\n",
       "  17,\n",
       "  3,\n",
       "  2,\n",
       "  5,\n",
       "  4,\n",
       "  3),\n",
       " (0,\n",
       "  34,\n",
       "  'Travel_Rarely',\n",
       "  1346,\n",
       "  'Research & Development',\n",
       "  19,\n",
       "  'Medical',\n",
       "  'Male',\n",
       "  93,\n",
       "  'Laboratory Technician',\n",
       "  4,\n",
       "  2661,\n",
       "  0,\n",
       "  'No',\n",
       "  11,\n",
       "  3,\n",
       "  3,\n",
       "  2,\n",
       "  1,\n",
       "  2),\n",
       " (1,\n",
       "  28,\n",
       "  'Travel_Rarely',\n",
       "  103,\n",
       "  'Research & Development',\n",
       "  24,\n",
       "  'Life Sciences',\n",
       "  'Male',\n",
       "  50,\n",
       "  'Laboratory Technician',\n",
       "  3,\n",
       "  2028,\n",
       "  5,\n",
       "  'Yes',\n",
       "  14,\n",
       "  3,\n",
       "  3,\n",
       "  4,\n",
       "  0,\n",
       "  3),\n",
       " (0,\n",
       "  29,\n",
       "  'Travel_Rarely',\n",
       "  1389,\n",
       "  'Research & Development',\n",
       "  21,\n",
       "  'Life Sciences',\n",
       "  'Female',\n",
       "  51,\n",
       "  'Manufacturing Director',\n",
       "  1,\n",
       "  9980,\n",
       "  1,\n",
       "  'No',\n",
       "  11,\n",
       "  3,\n",
       "  3,\n",
       "  10,\n",
       "  8,\n",
       "  8),\n",
       " (0,\n",
       "  32,\n",
       "  'Travel_Rarely',\n",
       "  334,\n",
       "  'Research & Development',\n",
       "  5,\n",
       "  'Life Sciences',\n",
       "  'Male',\n",
       "  80,\n",
       "  'Research Scientist',\n",
       "  2,\n",
       "  3298,\n",
       "  0,\n",
       "  'Yes',\n",
       "  12,\n",
       "  3,\n",
       "  2,\n",
       "  6,\n",
       "  0,\n",
       "  5),\n",
       " (0,\n",
       "  22,\n",
       "  'Non-Travel',\n",
       "  1123,\n",
       "  'Research & Development',\n",
       "  16,\n",
       "  'Medical',\n",
       "  'Male',\n",
       "  96,\n",
       "  'Laboratory Technician',\n",
       "  4,\n",
       "  2935,\n",
       "  1,\n",
       "  'Yes',\n",
       "  13,\n",
       "  3,\n",
       "  2,\n",
       "  1,\n",
       "  0,\n",
       "  0),\n",
       " (0,\n",
       "  38,\n",
       "  'Travel_Rarely',\n",
       "  371,\n",
       "  'Research & Development',\n",
       "  2,\n",
       "  'Life Sciences',\n",
       "  'Male',\n",
       "  45,\n",
       "  'Research Scientist',\n",
       "  4,\n",
       "  3944,\n",
       "  5,\n",
       "  'Yes',\n",
       "  11,\n",
       "  3,\n",
       "  3,\n",
       "  3,\n",
       "  1,\n",
       "  2),\n",
       " (0,\n",
       "  24,\n",
       "  'Non-Travel',\n",
       "  673,\n",
       "  'Research & Development',\n",
       "  11,\n",
       "  'Other',\n",
       "  'Female',\n",
       "  96,\n",
       "  'Manufacturing Director',\n",
       "  3,\n",
       "  4011,\n",
       "  0,\n",
       "  'No',\n",
       "  18,\n",
       "  3,\n",
       "  2,\n",
       "  4,\n",
       "  1,\n",
       "  3),\n",
       " (1,\n",
       "  36,\n",
       "  'Travel_Rarely',\n",
       "  1218,\n",
       "  'Sales',\n",
       "  9,\n",
       "  'Life Sciences',\n",
       "  'Male',\n",
       "  82,\n",
       "  'Sales Representative',\n",
       "  1,\n",
       "  3407,\n",
       "  7,\n",
       "  'No',\n",
       "  23,\n",
       "  4,\n",
       "  3,\n",
       "  5,\n",
       "  0,\n",
       "  3),\n",
       " (0,\n",
       "  21,\n",
       "  'Travel_Rarely',\n",
       "  391,\n",
       "  'Research & Development',\n",
       "  15,\n",
       "  'Life Sciences',\n",
       "  'Male',\n",
       "  96,\n",
       "  'Research Scientist',\n",
       "  4,\n",
       "  1232,\n",
       "  1,\n",
       "  'No',\n",
       "  14,\n",
       "  3,\n",
       "  3,\n",
       "  0,\n",
       "  0,\n",
       "  0),\n",
       " (1,\n",
       "  34,\n",
       "  'Travel_Rarely',\n",
       "  699,\n",
       "  'Research & Development',\n",
       "  6,\n",
       "  'Medical',\n",
       "  'Male',\n",
       "  83,\n",
       "  'Research Scientist',\n",
       "  1,\n",
       "  2960,\n",
       "  2,\n",
       "  'No',\n",
       "  11,\n",
       "  3,\n",
       "  3,\n",
       "  4,\n",
       "  1,\n",
       "  3),\n",
       " (1,\n",
       "  32,\n",
       "  'Travel_Frequently',\n",
       "  1125,\n",
       "  'Research & Development',\n",
       "  16,\n",
       "  'Life Sciences',\n",
       "  'Female',\n",
       "  72,\n",
       "  'Research Scientist',\n",
       "  1,\n",
       "  3919,\n",
       "  1,\n",
       "  'Yes',\n",
       "  22,\n",
       "  4,\n",
       "  3,\n",
       "  10,\n",
       "  6,\n",
       "  7),\n",
       " (0,\n",
       "  42,\n",
       "  'Travel_Rarely',\n",
       "  691,\n",
       "  'Sales',\n",
       "  8,\n",
       "  'Marketing',\n",
       "  'Male',\n",
       "  48,\n",
       "  'Sales Executive',\n",
       "  2,\n",
       "  6825,\n",
       "  0,\n",
       "  'No',\n",
       "  11,\n",
       "  3,\n",
       "  3,\n",
       "  9,\n",
       "  4,\n",
       "  2),\n",
       " (0,\n",
       "  44,\n",
       "  'Travel_Rarely',\n",
       "  477,\n",
       "  'Research & Development',\n",
       "  7,\n",
       "  'Medical',\n",
       "  'Female',\n",
       "  42,\n",
       "  'Healthcare Representative',\n",
       "  4,\n",
       "  10248,\n",
       "  3,\n",
       "  'No',\n",
       "  14,\n",
       "  3,\n",
       "  3,\n",
       "  22,\n",
       "  5,\n",
       "  17),\n",
       " (0,\n",
       "  33,\n",
       "  'Travel_Rarely',\n",
       "  924,\n",
       "  'Research & Development',\n",
       "  2,\n",
       "  'Medical',\n",
       "  'Male',\n",
       "  78,\n",
       "  'Laboratory Technician',\n",
       "  4,\n",
       "  2496,\n",
       "  4,\n",
       "  'No',\n",
       "  11,\n",
       "  3,\n",
       "  3,\n",
       "  1,\n",
       "  0,\n",
       "  0),\n",
       " (0,\n",
       "  44,\n",
       "  'Travel_Rarely',\n",
       "  1459,\n",
       "  'Research & Development',\n",
       "  10,\n",
       "  'Other',\n",
       "  'Male',\n",
       "  41,\n",
       "  'Healthcare Representative',\n",
       "  4,\n",
       "  6465,\n",
       "  2,\n",
       "  'Yes',\n",
       "  13,\n",
       "  3,\n",
       "  4,\n",
       "  4,\n",
       "  1,\n",
       "  3),\n",
       " (0,\n",
       "  30,\n",
       "  'Travel_Rarely',\n",
       "  125,\n",
       "  'Research & Development',\n",
       "  9,\n",
       "  'Medical',\n",
       "  'Male',\n",
       "  83,\n",
       "  'Laboratory Technician',\n",
       "  3,\n",
       "  2206,\n",
       "  1,\n",
       "  'No',\n",
       "  13,\n",
       "  3,\n",
       "  3,\n",
       "  10,\n",
       "  1,\n",
       "  8),\n",
       " (1,\n",
       "  39,\n",
       "  'Travel_Rarely',\n",
       "  895,\n",
       "  'Sales',\n",
       "  5,\n",
       "  'Technical Degree',\n",
       "  'Male',\n",
       "  56,\n",
       "  'Sales Representative',\n",
       "  4,\n",
       "  2086,\n",
       "  3,\n",
       "  'No',\n",
       "  14,\n",
       "  3,\n",
       "  4,\n",
       "  1,\n",
       "  0,\n",
       "  0),\n",
       " (1,\n",
       "  24,\n",
       "  'Travel_Rarely',\n",
       "  813,\n",
       "  'Research & Development',\n",
       "  1,\n",
       "  'Medical',\n",
       "  'Male',\n",
       "  61,\n",
       "  'Research Scientist',\n",
       "  4,\n",
       "  2293,\n",
       "  2,\n",
       "  'Yes',\n",
       "  16,\n",
       "  3,\n",
       "  2,\n",
       "  2,\n",
       "  2,\n",
       "  0),\n",
       " (0,\n",
       "  43,\n",
       "  'Travel_Rarely',\n",
       "  1273,\n",
       "  'Research & Development',\n",
       "  2,\n",
       "  'Medical',\n",
       "  'Female',\n",
       "  72,\n",
       "  'Research Scientist',\n",
       "  3,\n",
       "  2645,\n",
       "  1,\n",
       "  'No',\n",
       "  12,\n",
       "  3,\n",
       "  2,\n",
       "  5,\n",
       "  1,\n",
       "  4),\n",
       " (1,\n",
       "  50,\n",
       "  'Travel_Rarely',\n",
       "  869,\n",
       "  'Sales',\n",
       "  3,\n",
       "  'Marketing',\n",
       "  'Male',\n",
       "  86,\n",
       "  'Sales Representative',\n",
       "  3,\n",
       "  2683,\n",
       "  1,\n",
       "  'Yes',\n",
       "  14,\n",
       "  3,\n",
       "  3,\n",
       "  3,\n",
       "  0,\n",
       "  2),\n",
       " (0,\n",
       "  35,\n",
       "  'Travel_Rarely',\n",
       "  890,\n",
       "  'Sales',\n",
       "  2,\n",
       "  'Marketing',\n",
       "  'Female',\n",
       "  97,\n",
       "  'Sales Representative',\n",
       "  4,\n",
       "  2014,\n",
       "  1,\n",
       "  'No',\n",
       "  13,\n",
       "  3,\n",
       "  3,\n",
       "  2,\n",
       "  2,\n",
       "  2),\n",
       " (0,\n",
       "  36,\n",
       "  'Travel_Rarely',\n",
       "  852,\n",
       "  'Research & Development',\n",
       "  5,\n",
       "  'Life Sciences',\n",
       "  'Female',\n",
       "  82,\n",
       "  'Research Scientist',\n",
       "  1,\n",
       "  3419,\n",
       "  9,\n",
       "  'Yes',\n",
       "  14,\n",
       "  3,\n",
       "  4,\n",
       "  1,\n",
       "  0,\n",
       "  0),\n",
       " (0,\n",
       "  33,\n",
       "  'Travel_Frequently',\n",
       "  1141,\n",
       "  'Sales',\n",
       "  1,\n",
       "  'Life Sciences',\n",
       "  'Female',\n",
       "  42,\n",
       "  'Sales Executive',\n",
       "  1,\n",
       "  5376,\n",
       "  2,\n",
       "  'No',\n",
       "  19,\n",
       "  3,\n",
       "  3,\n",
       "  5,\n",
       "  1,\n",
       "  3),\n",
       " (0,\n",
       "  35,\n",
       "  'Travel_Rarely',\n",
       "  464,\n",
       "  'Research & Development',\n",
       "  4,\n",
       "  'Other',\n",
       "  'Male',\n",
       "  75,\n",
       "  'Laboratory Technician',\n",
       "  4,\n",
       "  1951,\n",
       "  1,\n",
       "  'No',\n",
       "  12,\n",
       "  3,\n",
       "  3,\n",
       "  1,\n",
       "  0,\n",
       "  0),\n",
       " (0,\n",
       "  27,\n",
       "  'Travel_Rarely',\n",
       "  1240,\n",
       "  'Research & Development',\n",
       "  2,\n",
       "  'Life Sciences',\n",
       "  'Female',\n",
       "  33,\n",
       "  'Laboratory Technician',\n",
       "  1,\n",
       "  2341,\n",
       "  1,\n",
       "  'No',\n",
       "  13,\n",
       "  3,\n",
       "  3,\n",
       "  1,\n",
       "  0,\n",
       "  0),\n",
       " (1,\n",
       "  26,\n",
       "  'Travel_Rarely',\n",
       "  1357,\n",
       "  'Research & Development',\n",
       "  25,\n",
       "  'Life Sciences',\n",
       "  'Male',\n",
       "  48,\n",
       "  'Laboratory Technician',\n",
       "  3,\n",
       "  2293,\n",
       "  1,\n",
       "  'No',\n",
       "  12,\n",
       "  3,\n",
       "  2,\n",
       "  1,\n",
       "  0,\n",
       "  1),\n",
       " (0,\n",
       "  27,\n",
       "  'Travel_Frequently',\n",
       "  994,\n",
       "  'Sales',\n",
       "  8,\n",
       "  'Life Sciences',\n",
       "  'Male',\n",
       "  37,\n",
       "  'Sales Executive',\n",
       "  3,\n",
       "  8726,\n",
       "  1,\n",
       "  'No',\n",
       "  15,\n",
       "  3,\n",
       "  3,\n",
       "  9,\n",
       "  1,\n",
       "  7),\n",
       " (0,\n",
       "  30,\n",
       "  'Travel_Frequently',\n",
       "  721,\n",
       "  'Research & Development',\n",
       "  1,\n",
       "  'Medical',\n",
       "  'Female',\n",
       "  58,\n",
       "  'Laboratory Technician',\n",
       "  4,\n",
       "  4011,\n",
       "  1,\n",
       "  'No',\n",
       "  23,\n",
       "  4,\n",
       "  3,\n",
       "  12,\n",
       "  3,\n",
       "  7),\n",
       " (0,\n",
       "  34,\n",
       "  'Non-Travel',\n",
       "  1065,\n",
       "  'Sales',\n",
       "  23,\n",
       "  'Marketing',\n",
       "  'Male',\n",
       "  72,\n",
       "  'Sales Executive',\n",
       "  3,\n",
       "  4568,\n",
       "  0,\n",
       "  'No',\n",
       "  20,\n",
       "  4,\n",
       "  3,\n",
       "  9,\n",
       "  8,\n",
       "  7),\n",
       " (0,\n",
       "  37,\n",
       "  'Travel_Rarely',\n",
       "  408,\n",
       "  'Research & Development',\n",
       "  19,\n",
       "  'Life Sciences',\n",
       "  'Male',\n",
       "  73,\n",
       "  'Research Scientist',\n",
       "  2,\n",
       "  3022,\n",
       "  4,\n",
       "  'No',\n",
       "  21,\n",
       "  4,\n",
       "  3,\n",
       "  1,\n",
       "  0,\n",
       "  0),\n",
       " (0,\n",
       "  46,\n",
       "  'Travel_Frequently',\n",
       "  1211,\n",
       "  'Sales',\n",
       "  5,\n",
       "  'Marketing',\n",
       "  'Male',\n",
       "  98,\n",
       "  'Sales Executive',\n",
       "  4,\n",
       "  5772,\n",
       "  4,\n",
       "  'Yes',\n",
       "  21,\n",
       "  4,\n",
       "  3,\n",
       "  9,\n",
       "  0,\n",
       "  8),\n",
       " (0,\n",
       "  35,\n",
       "  'Travel_Rarely',\n",
       "  1229,\n",
       "  'Research & Development',\n",
       "  8,\n",
       "  'Life Sciences',\n",
       "  'Male',\n",
       "  36,\n",
       "  'Laboratory Technician',\n",
       "  4,\n",
       "  2269,\n",
       "  1,\n",
       "  'No',\n",
       "  19,\n",
       "  3,\n",
       "  3,\n",
       "  1,\n",
       "  0,\n",
       "  1),\n",
       " (1,\n",
       "  48,\n",
       "  'Travel_Rarely',\n",
       "  626,\n",
       "  'Research & Development',\n",
       "  1,\n",
       "  'Life Sciences',\n",
       "  'Male',\n",
       "  98,\n",
       "  'Laboratory Technician',\n",
       "  3,\n",
       "  5381,\n",
       "  9,\n",
       "  'Yes',\n",
       "  13,\n",
       "  3,\n",
       "  3,\n",
       "  1,\n",
       "  0,\n",
       "  0),\n",
       " (1,\n",
       "  28,\n",
       "  'Travel_Rarely',\n",
       "  1434,\n",
       "  'Research & Development',\n",
       "  5,\n",
       "  'Technical Degree',\n",
       "  'Male',\n",
       "  50,\n",
       "  'Laboratory Technician',\n",
       "  3,\n",
       "  3441,\n",
       "  1,\n",
       "  'Yes',\n",
       "  13,\n",
       "  3,\n",
       "  2,\n",
       "  2,\n",
       "  2,\n",
       "  2),\n",
       " (0,\n",
       "  44,\n",
       "  'Travel_Rarely',\n",
       "  1488,\n",
       "  'Sales',\n",
       "  1,\n",
       "  'Marketing',\n",
       "  'Female',\n",
       "  75,\n",
       "  'Sales Executive',\n",
       "  1,\n",
       "  5454,\n",
       "  5,\n",
       "  'Yes',\n",
       "  21,\n",
       "  4,\n",
       "  2,\n",
       "  4,\n",
       "  1,\n",
       "  3)]"
      ]
     },
     "execution_count": 62,
     "metadata": {},
     "output_type": "execute_result"
    }
   ],
   "source": [
    "cursor.fetchall()"
   ]
  },
  {
   "cell_type": "code",
   "execution_count": 72,
   "metadata": {},
   "outputs": [],
   "source": [
    "#The COUNT() function returns the number of rows that matches a specified criterion.\n",
    "cursor.execute(\"select count(MonthlyIncome) from attrition01\")"
   ]
  },
  {
   "cell_type": "code",
   "execution_count": 73,
   "metadata": {},
   "outputs": [
    {
     "data": {
      "text/plain": [
       "[(48,)]"
      ]
     },
     "execution_count": 73,
     "metadata": {},
     "output_type": "execute_result"
    }
   ],
   "source": [
    "cursor.fetchall()"
   ]
  },
  {
   "cell_type": "code",
   "execution_count": 70,
   "metadata": {},
   "outputs": [],
   "source": [
    "#The SUM() function returns the total sum of a numeric column. \n",
    "cursor.execute(\"select SUM(MonthlyIncome) from attrition01\")"
   ]
  },
  {
   "cell_type": "code",
   "execution_count": 71,
   "metadata": {},
   "outputs": [
    {
     "data": {
      "text/plain": [
       "[(Decimal('190674'),)]"
      ]
     },
     "execution_count": 71,
     "metadata": {},
     "output_type": "execute_result"
    }
   ],
   "source": [
    "cursor.fetchall()"
   ]
  },
  {
   "cell_type": "code",
   "execution_count": 74,
   "metadata": {},
   "outputs": [],
   "source": [
    "#The MIN() function returns the smallest value of the selected column.\n",
    "cursor.execute(\"select min(MonthlyIncome) from attrition01\")"
   ]
  },
  {
   "cell_type": "code",
   "execution_count": 75,
   "metadata": {},
   "outputs": [
    {
     "data": {
      "text/plain": [
       "[(1232,)]"
      ]
     },
     "execution_count": 75,
     "metadata": {},
     "output_type": "execute_result"
    }
   ],
   "source": [
    "cursor.fetchall()"
   ]
  },
  {
   "cell_type": "code",
   "execution_count": 76,
   "metadata": {},
   "outputs": [],
   "source": [
    "#The MAX() function returns the largest value of the selected column.\n",
    "cursor.execute(\"select max(MonthlyIncome) from attrition01\")"
   ]
  },
  {
   "cell_type": "code",
   "execution_count": 77,
   "metadata": {},
   "outputs": [
    {
     "data": {
      "text/plain": [
       "[(10248,)]"
      ]
     },
     "execution_count": 77,
     "metadata": {},
     "output_type": "execute_result"
    }
   ],
   "source": [
    "cursor.fetchall()"
   ]
  },
  {
   "cell_type": "code",
   "execution_count": 79,
   "metadata": {},
   "outputs": [],
   "source": [
    "#The AVG() function returns the average value of a numeric column. \n",
    "cursor.execute(\"select avg(MonthlyIncome) from attrition01\")"
   ]
  },
  {
   "cell_type": "code",
   "execution_count": 80,
   "metadata": {},
   "outputs": [
    {
     "data": {
      "text/plain": [
       "[(Decimal('3972.3750'),)]"
      ]
     },
     "execution_count": 80,
     "metadata": {},
     "output_type": "execute_result"
    }
   ],
   "source": [
    "cursor.fetchall()"
   ]
  }
 ],
 "metadata": {
  "kernelspec": {
   "display_name": "Python 3",
   "language": "python",
   "name": "python3"
  },
  "language_info": {
   "codemirror_mode": {
    "name": "ipython",
    "version": 3
   },
   "file_extension": ".py",
   "mimetype": "text/x-python",
   "name": "python",
   "nbconvert_exporter": "python",
   "pygments_lexer": "ipython3",
   "version": "3.8.3"
  }
 },
 "nbformat": 4,
 "nbformat_minor": 4
}
